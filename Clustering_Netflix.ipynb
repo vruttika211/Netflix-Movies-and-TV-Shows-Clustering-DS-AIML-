{
 "cells": [
  {
   "cell_type": "code",
   "execution_count": 1,
   "id": "46b9ac1d-df88-43ae-ab29-466ef5b5f381",
   "metadata": {},
   "outputs": [],
   "source": [
    "import numpy as np\n",
    "import pandas as pd\n",
    "import matplotlib.pyplot as plt\n",
    "import seaborn as sns\n",
    "from sklearn.feature_extraction.text import TfidfVectorizer\n",
    "from sklearn.cluster import KMeans\n",
    "from sklearn.metrics import silhouette_score\n",
    "import warnings\n",
    "warnings.filterwarnings(\"ignore\")"
   ]
  },
  {
   "cell_type": "code",
   "execution_count": 2,
   "id": "d89ec6de-5b0d-4ec5-b464-3d15ea38d892",
   "metadata": {},
   "outputs": [],
   "source": [
    "# Load Dataset\n",
    "df = pd.read_csv(r\"C:\\Users\\Admin\\Downloads\\NETFLIX MOVIES AND TV SHOWS CLUSTERING.csv\")"
   ]
  },
  {
   "cell_type": "code",
   "execution_count": 3,
   "id": "81ffa20d-4b75-4d8f-959a-ffdde2ec7ef3",
   "metadata": {},
   "outputs": [
    {
     "name": "stdout",
     "output_type": "stream",
     "text": [
      "First 5 rows of the dataset:\n",
      "  show_id     type  title           director  \\\n",
      "0      s1  TV Show     3%                NaN   \n",
      "1      s2    Movie   7:19  Jorge Michel Grau   \n",
      "2      s3    Movie  23:59       Gilbert Chan   \n",
      "3      s4    Movie      9        Shane Acker   \n",
      "4      s5    Movie     21     Robert Luketic   \n",
      "\n",
      "                                                cast        country  \\\n",
      "0  João Miguel, Bianca Comparato, Michel Gomes, R...         Brazil   \n",
      "1  Demián Bichir, Héctor Bonilla, Oscar Serrano, ...         Mexico   \n",
      "2  Tedd Chan, Stella Chung, Henley Hii, Lawrence ...      Singapore   \n",
      "3  Elijah Wood, John C. Reilly, Jennifer Connelly...  United States   \n",
      "4  Jim Sturgess, Kevin Spacey, Kate Bosworth, Aar...  United States   \n",
      "\n",
      "          date_added  release_year rating   duration  \\\n",
      "0    August 14, 2020          2020  TV-MA  4 Seasons   \n",
      "1  December 23, 2016          2016  TV-MA     93 min   \n",
      "2  December 20, 2018          2011      R     78 min   \n",
      "3  November 16, 2017          2009  PG-13     80 min   \n",
      "4    January 1, 2020          2008  PG-13    123 min   \n",
      "\n",
      "                                           listed_in  \\\n",
      "0  International TV Shows, TV Dramas, TV Sci-Fi &...   \n",
      "1                       Dramas, International Movies   \n",
      "2                Horror Movies, International Movies   \n",
      "3  Action & Adventure, Independent Movies, Sci-Fi...   \n",
      "4                                             Dramas   \n",
      "\n",
      "                                         description  \n",
      "0  In a future where the elite inhabit an island ...  \n",
      "1  After a devastating earthquake hits Mexico Cit...  \n",
      "2  When an army recruit is found dead, his fellow...  \n",
      "3  In a postapocalyptic world, rag-doll robots hi...  \n",
      "4  A brilliant group of students become card-coun...  \n",
      "--------------------------------------------------\n"
     ]
    }
   ],
   "source": [
    "# Display the first 5 rows of the DataFrame\n",
    "print(\"First 5 rows of the dataset:\")\n",
    "print(df.head())\n",
    "print(\"-\" * 50)\n"
   ]
  },
  {
   "cell_type": "code",
   "execution_count": 4,
   "id": "ec57aba2-6c99-484c-8936-e91b770b617c",
   "metadata": {},
   "outputs": [
    {
     "name": "stdout",
     "output_type": "stream",
     "text": [
      "Dataset Information:\n",
      "<class 'pandas.core.frame.DataFrame'>\n",
      "RangeIndex: 7787 entries, 0 to 7786\n",
      "Data columns (total 12 columns):\n",
      " #   Column        Non-Null Count  Dtype \n",
      "---  ------        --------------  ----- \n",
      " 0   show_id       7787 non-null   object\n",
      " 1   type          7787 non-null   object\n",
      " 2   title         7787 non-null   object\n",
      " 3   director      5398 non-null   object\n",
      " 4   cast          7069 non-null   object\n",
      " 5   country       7280 non-null   object\n",
      " 6   date_added    7777 non-null   object\n",
      " 7   release_year  7787 non-null   int64 \n",
      " 8   rating        7780 non-null   object\n",
      " 9   duration      7787 non-null   object\n",
      " 10  listed_in     7787 non-null   object\n",
      " 11  description   7787 non-null   object\n",
      "dtypes: int64(1), object(11)\n",
      "memory usage: 730.2+ KB\n",
      "--------------------------------------------------\n"
     ]
    }
   ],
   "source": [
    "# summary of the DataFrame's structure and data types\n",
    "print(\"Dataset Information:\")\n",
    "df.info()\n",
    "print(\"-\" * 50)"
   ]
  },
  {
   "cell_type": "code",
   "execution_count": 5,
   "id": "07a94748-7c52-4b6b-a8e9-034446aed382",
   "metadata": {},
   "outputs": [
    {
     "name": "stdout",
     "output_type": "stream",
     "text": [
      "Missing Values per Column:\n",
      "show_id            0\n",
      "type               0\n",
      "title              0\n",
      "director        2389\n",
      "cast             718\n",
      "country          507\n",
      "date_added        10\n",
      "release_year       0\n",
      "rating             7\n",
      "duration           0\n",
      "listed_in          0\n",
      "description        0\n",
      "dtype: int64\n",
      "--------------------------------------------------\n"
     ]
    }
   ],
   "source": [
    "# Check for missing values in each column\n",
    "print(\"Missing Values per Column:\")\n",
    "print(df.isnull().sum())\n",
    "print(\"-\" * 50)"
   ]
  },
  {
   "cell_type": "code",
   "execution_count": 6,
   "id": "ceb8bb03-9637-4af5-8c58-825743867eb9",
   "metadata": {},
   "outputs": [],
   "source": [
    "# Handle missing values in the 'country' column\n",
    "df['country'] = df['country'].fillna('Unknown')"
   ]
  },
  {
   "cell_type": "code",
   "execution_count": 7,
   "id": "784572eb-1bb4-4d87-8af3-a644eece0245",
   "metadata": {},
   "outputs": [],
   "source": [
    "# Handle missing values in 'director' and 'cast' columns\n",
    "df['director'] = df['director'].fillna('')\n",
    "df['cast'] = df['cast'].fillna('')"
   ]
  },
  {
   "cell_type": "code",
   "execution_count": 8,
   "id": "08f7eae0-a614-41fb-89d7-d3284025d724",
   "metadata": {},
   "outputs": [],
   "source": [
    "# Convert 'date_added' to datetime, handling any parsing errors with coerce\n",
    "df['date_added'] = pd.to_datetime(df['date_added'], errors='coerce')"
   ]
  },
  {
   "cell_type": "code",
   "execution_count": 12,
   "id": "f36b935b-b29a-444c-92ca-8a181cf94af6",
   "metadata": {},
   "outputs": [],
   "source": [
    "# Import necessary libraries for text processing\n",
    "from sklearn.feature_extraction.text import TfidfVectorizer"
   ]
  },
  {
   "cell_type": "code",
   "execution_count": 13,
   "id": "79794f8f-b911-4764-a3f7-58e55163bfcf",
   "metadata": {},
   "outputs": [],
   "source": [
    "# Combine relevant text columns\n",
    "df['combined_features'] = df['listed_in'].fillna('') + ' ' + df['description'].fillna('')"
   ]
  },
  {
   "cell_type": "code",
   "execution_count": 14,
   "id": "cc766e14-ecac-4c17-a2ed-0ae0f1052b42",
   "metadata": {},
   "outputs": [],
   "source": [
    "# Initialize TfidfVectorizer\n",
    "tfidf_vectorizer = TfidfVectorizer(stop_words='english')"
   ]
  },
  {
   "cell_type": "code",
   "execution_count": 15,
   "id": "8ecf25d5-e58f-434a-a767-9d68de1693bf",
   "metadata": {},
   "outputs": [],
   "source": [
    "# Transform the combined text into a matrix of TF-IDF features\n",
    "tfidf_matrix = tfidf_vectorizer.fit_transform(df['combined_features'])"
   ]
  },
  {
   "cell_type": "code",
   "execution_count": 21,
   "id": "d51cf49b-4de2-4114-9e6d-5df09f9224e7",
   "metadata": {},
   "outputs": [],
   "source": [
    "# Import K-Means\n",
    "from sklearn.cluster import KMeans\n",
    "\n"
   ]
  },
  {
   "cell_type": "code",
   "execution_count": 22,
   "id": "74637d1b-5cd6-4c45-9727-b4868d6c33db",
   "metadata": {},
   "outputs": [
    {
     "data": {
      "image/png": "[encoded data removed]",
      "text/plain": [
       "<Figure size 1000x500 with 1 Axes>"
      ]
     },
     "metadata": {},
     "output_type": "display_data"
    }
   ],
   "source": [
    "# Using the Elbow Method to find the optimal number of clusters\n",
    "wcss = []\n",
    "for i in range(1, 11):\n",
    "    kmeans = KMeans(n_clusters=i, init='k-means++', random_state=42)\n",
    "    kmeans.fit(tfidf_matrix)\n",
    "    wcss.append(kmeans.inertia_)\n",
    "\n",
    "plt.figure(figsize=(10, 5))\n",
    "plt.plot(range(1, 11), wcss, marker='o', linestyle='--')\n",
    "plt.title('Elbow Method')\n",
    "plt.xlabel('Number of clusters')\n",
    "plt.ylabel('WCSS')\n",
    "plt.show()\n",
    "\n"
   ]
  },
  {
   "cell_type": "code",
   "execution_count": 23,
   "id": "2441ee6a-c398-4677-b23f-a97d9e449678",
   "metadata": {},
   "outputs": [],
   "source": [
    "# Based on the elbow plot, let's assume 5 clusters is optimal\n",
    "k_clusters = 5\n",
    "kmeans = KMeans(n_clusters=k_clusters, init='k-means++', random_state=42)\n",
    "clusters = kmeans.fit_predict(tfidf_matrix)\n",
    "\n"
   ]
  },
  {
   "cell_type": "code",
   "execution_count": 24,
   "id": "fef5d501-37f7-4ed8-b82e-a8349266da3f",
   "metadata": {},
   "outputs": [
    {
     "name": "stdout",
     "output_type": "stream",
     "text": [
      "  show_id     type  title           director  \\\n",
      "0      s1  TV Show     3%                      \n",
      "1      s2    Movie   7:19  Jorge Michel Grau   \n",
      "2      s3    Movie  23:59       Gilbert Chan   \n",
      "3      s4    Movie      9        Shane Acker   \n",
      "4      s5    Movie     21     Robert Luketic   \n",
      "\n",
      "                                                cast        country  \\\n",
      "0  João Miguel, Bianca Comparato, Michel Gomes, R...         Brazil   \n",
      "1  Demián Bichir, Héctor Bonilla, Oscar Serrano, ...         Mexico   \n",
      "2  Tedd Chan, Stella Chung, Henley Hii, Lawrence ...      Singapore   \n",
      "3  Elijah Wood, John C. Reilly, Jennifer Connelly...  United States   \n",
      "4  Jim Sturgess, Kevin Spacey, Kate Bosworth, Aar...  United States   \n",
      "\n",
      "  date_added  release_year rating   duration  \\\n",
      "0 2020-08-14          2020  TV-MA  4 Seasons   \n",
      "1 2016-12-23          2016  TV-MA     93 min   \n",
      "2 2018-12-20          2011      R     78 min   \n",
      "3 2017-11-16          2009  PG-13     80 min   \n",
      "4 2020-01-01          2008  PG-13    123 min   \n",
      "\n",
      "                                           listed_in  \\\n",
      "0  International TV Shows, TV Dramas, TV Sci-Fi &...   \n",
      "1                       Dramas, International Movies   \n",
      "2                Horror Movies, International Movies   \n",
      "3  Action & Adventure, Independent Movies, Sci-Fi...   \n",
      "4                                             Dramas   \n",
      "\n",
      "                                         description  \\\n",
      "0  In a future where the elite inhabit an island ...   \n",
      "1  After a devastating earthquake hits Mexico Cit...   \n",
      "2  When an army recruit is found dead, his fellow...   \n",
      "3  In a postapocalyptic world, rag-doll robots hi...   \n",
      "4  A brilliant group of students become card-coun...   \n",
      "\n",
      "                                   combined_features  cluster_label  \n",
      "0  International TV Shows, TV Dramas, TV Sci-Fi &...              4  \n",
      "1  Dramas, International Movies After a devastati...              2  \n",
      "2  Horror Movies, International Movies When an ar...              2  \n",
      "3  Action & Adventure, Independent Movies, Sci-Fi...              0  \n",
      "4  Dramas A brilliant group of students become ca...              2  \n"
     ]
    }
   ],
   "source": [
    "# Add the cluster labels back to the DataFrame\n",
    "df['cluster_label'] = clusters\n",
    "print(df.head())"
   ]
  },
  {
   "cell_type": "code",
   "execution_count": null,
   "id": "2aaa83c6-6210-42d8-88f3-8c5892b4477d",
   "metadata": {},
   "outputs": [],
   "source": []
  }
 ],
 "metadata": {
  "kernelspec": {
   "display_name": "Python 3 (ipykernel)",
   "language": "python",
   "name": "python3"
  },
  "language_info": {
   "codemirror_mode": {
    "name": "ipython",
    "version": 3
   },
   "file_extension": ".py",
   "mimetype": "text/x-python",
   "name": "python",
   "nbconvert_exporter": "python",
   "pygments_lexer": "ipython3",
   "version": "3.13.5"
  }
 },
 "nbformat": 4,
 "nbformat_minor": 5
}
